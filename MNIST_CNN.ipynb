{
  "nbformat": 4,
  "nbformat_minor": 0,
  "metadata": {
    "colab": {
      "provenance": [],
      "gpuType": "T4",
      "toc_visible": true,
      "authorship_tag": "ABX9TyOKfPJXc5RI+O/9ZJafziDM"
    },
    "kernelspec": {
      "name": "python3",
      "display_name": "Python 3"
    },
    "language_info": {
      "name": "python"
    },
    "accelerator": "GPU"
  },
  "cells": [
    {
      "cell_type": "markdown",
      "source": [
        "# CNN model trained on MNIST dataset for handwritten digit classification"
      ],
      "metadata": {
        "id": "RiJyWeJk0npx"
      }
    },
    {
      "cell_type": "code",
      "source": [
        "from matplotlib import pyplot as plt\n",
        "import numpy as np"
      ],
      "metadata": {
        "id": "TL6u01YULdCc"
      },
      "execution_count": null,
      "outputs": []
    },
    {
      "cell_type": "markdown",
      "source": [
        "## Loading dataset\n",
        "The MNIST dataset is a part of keras datasets which is split into Train and Test with 60000 and 10000 image each."
      ],
      "metadata": {
        "id": "Ckjvnff-TpGr"
      }
    },
    {
      "cell_type": "code",
      "execution_count": null,
      "metadata": {
        "id": "8SaRegXgKVs8",
        "colab": {
          "base_uri": "https://localhost:8080/"
        },
        "outputId": "d9641483-3727-40bf-84f5-5b492a390722"
      },
      "outputs": [
        {
          "output_type": "stream",
          "name": "stdout",
          "text": [
            "Downloading data from https://storage.googleapis.com/tensorflow/tf-keras-datasets/mnist.npz\n",
            "11490434/11490434 [==============================] - 2s 0us/step\n"
          ]
        }
      ],
      "source": [
        "from keras.datasets import mnist\n",
        "train,test= mnist.load_data()"
      ]
    },
    {
      "cell_type": "markdown",
      "source": [
        "The Train dataset contains 60000 images and it's corresponding labels. They're stored seperately in two variables."
      ],
      "metadata": {
        "id": "B0Kd_BuSUCfo"
      }
    },
    {
      "cell_type": "code",
      "source": [
        "data, label = train"
      ],
      "metadata": {
        "id": "qvaXgN3kLIqn"
      },
      "execution_count": null,
      "outputs": []
    },
    {
      "cell_type": "code",
      "source": [
        "len(data)"
      ],
      "metadata": {
        "id": "ahA_-_L-LZsC",
        "colab": {
          "base_uri": "https://localhost:8080/"
        },
        "outputId": "22ab9189-3cd1-4baf-c07b-ffad7effcb7b"
      },
      "execution_count": null,
      "outputs": [
        {
          "output_type": "execute_result",
          "data": {
            "text/plain": [
              "60000"
            ]
          },
          "metadata": {},
          "execution_count": 4
        }
      ]
    },
    {
      "cell_type": "code",
      "source": [
        "var=10010\n",
        "plt.imshow(data[var])\n",
        "print(label[var])"
      ],
      "metadata": {
        "id": "TnA13vnoLsrK",
        "colab": {
          "base_uri": "https://localhost:8080/",
          "height": 447
        },
        "outputId": "95a79ea9-d67a-4a8b-fdbc-9cb1f987a297"
      },
      "execution_count": null,
      "outputs": [
        {
          "output_type": "stream",
          "name": "stdout",
          "text": [
            "0\n"
          ]
        },
        {
          "output_type": "display_data",
          "data": {
            "text/plain": [
              "<Figure size 640x480 with 1 Axes>"
            ],
            "image/png": "[encoded data removed]"
          },
          "metadata": {}
        }
      ]
    },
    {
      "cell_type": "markdown",
      "source": [
        "Extracting the unique lables to determine the true labels and therefore determine the total no. of classes."
      ],
      "metadata": {
        "id": "8bHddSgqVESq"
      }
    },
    {
      "cell_type": "code",
      "source": [
        "true_labels=list(set(label))\n",
        "true_labels.sort()\n",
        "true_labels"
      ],
      "metadata": {
        "id": "zbEBfQ7IL4LF",
        "colab": {
          "base_uri": "https://localhost:8080/"
        },
        "outputId": "2b57f8d6-754b-49af-fee0-4c5cc7b44a9f"
      },
      "execution_count": null,
      "outputs": [
        {
          "output_type": "execute_result",
          "data": {
            "text/plain": [
              "[0, 1, 2, 3, 4, 5, 6, 7, 8, 9]"
            ]
          },
          "metadata": {},
          "execution_count": 6
        }
      ]
    },
    {
      "cell_type": "markdown",
      "source": [
        "Converting data and label to a numpy array for data processing."
      ],
      "metadata": {
        "id": "7HJ26EWDVULY"
      }
    },
    {
      "cell_type": "code",
      "source": [
        "x=np.array(data)\n",
        "y=np.array(label)"
      ],
      "metadata": {
        "id": "tU34F47MQHtH"
      },
      "execution_count": null,
      "outputs": []
    },
    {
      "cell_type": "markdown",
      "source": [
        "Reshaping 3D tensor (No. of images, Width, Height) into 4D tensor (No. of images, Width, Height, Pixel) nad normalising it."
      ],
      "metadata": {
        "id": "oH9Mek87Ve_a"
      }
    },
    {
      "cell_type": "code",
      "source": [
        "x=x.reshape(-1,28,28,1) # -1 is used to determine the value automatically"
      ],
      "metadata": {
        "id": "vItDTYn-QfSG"
      },
      "execution_count": null,
      "outputs": []
    },
    {
      "cell_type": "code",
      "source": [
        "x=x/255 # Normalising the values b/w 0 and 1"
      ],
      "metadata": {
        "id": "YmKbpvovSlJe"
      },
      "execution_count": null,
      "outputs": []
    },
    {
      "cell_type": "code",
      "source": [
        "x.shape\n",
        "print(x[0].shape)\n",
        "# print(x[0])"
      ],
      "metadata": {
        "id": "RrTSQXNYTDCX",
        "colab": {
          "base_uri": "https://localhost:8080/"
        },
        "outputId": "434d6845-e8eb-4371-9724-3d317a514618"
      },
      "execution_count": null,
      "outputs": [
        {
          "output_type": "stream",
          "name": "stdout",
          "text": [
            "(28, 28, 1)\n"
          ]
        }
      ]
    },
    {
      "cell_type": "code",
      "source": [
        "var=8966\n",
        "plt.imshow(x[var])\n",
        "print(y[var])"
      ],
      "metadata": {
        "id": "b-9Q_XkdSoyV",
        "colab": {
          "base_uri": "https://localhost:8080/",
          "height": 447
        },
        "outputId": "251e8d2a-3d3d-4a91-8cb8-8de85dca1c60"
      },
      "execution_count": null,
      "outputs": [
        {
          "output_type": "stream",
          "name": "stdout",
          "text": [
            "2\n"
          ]
        },
        {
          "output_type": "display_data",
          "data": {
            "text/plain": [
              "<Figure size 640x480 with 1 Axes>"
            ],
            "image/png": "[encoded data removed]"
          },
          "metadata": {}
        }
      ]
    },
    {
      "cell_type": "markdown",
      "source": [
        "## Building the Model\n",
        "We use the keras Sequential model to create our model. We add our desired layers to create a custom CNN. The Sequential model automatically feed forwards output of previous layer to next layer."
      ],
      "metadata": {
        "id": "oXhkURPRWDYo"
      }
    },
    {
      "cell_type": "code",
      "source": [
        "from keras.models import Sequential\n",
        "from keras.layers import Dense,Dropout, Activation,Conv2D,Flatten,MaxPool2D\n",
        "from keras.callbacks import EarlyStopping"
      ],
      "metadata": {
        "id": "l7B11IdXVHa-"
      },
      "execution_count": null,
      "outputs": []
    },
    {
      "cell_type": "code",
      "source": [
        "inputShape=x[0].shape # Input shape to model\n",
        "classes=len(true_labels) # No. of output classes"
      ],
      "metadata": {
        "id": "G2UEh9J5WrJV"
      },
      "execution_count": null,
      "outputs": []
    },
    {
      "cell_type": "code",
      "source": [
        "mods=Sequential()\n",
        "mods.add(Conv2D(32,(5,5),activation='relu',input_shape=inputShape,strides=(1,1),padding='same')) # Input layer\n",
        "mods.add(Conv2D(64,(3,3),activation='relu',strides=(1,1),padding='same'))\n",
        "mods.add(MaxPool2D(pool_size=(2,2),strides=(2,2),padding='same'))\n",
        "mods.add(Dropout(0.2))\n",
        "mods.add(Conv2D(128,(3,3),activation='relu',strides=(1,1),padding='same'))\n",
        "mods.add(MaxPool2D(pool_size=(2,2),strides=(2,2),padding='same'))\n",
        "mods.add(Flatten())\n",
        "mods.add(Dense(256,activation='relu'))\n",
        "mods.add(Dense(classes,activation='softmax')) # Output layer"
      ],
      "metadata": {
        "id": "zRNSc96DVpl1"
      },
      "execution_count": null,
      "outputs": []
    },
    {
      "cell_type": "code",
      "source": [
        "mods.compile(loss='sparse_categorical_crossentropy',optimizer='adam',metrics=['accuracy']) # Compiling model with loss function and optimiser"
      ],
      "metadata": {
        "id": "sQaQeSvRg0m-"
      },
      "execution_count": null,
      "outputs": []
    },
    {
      "cell_type": "code",
      "source": [
        "mods.summary()"
      ],
      "metadata": {
        "id": "UWxB1QvahdXI",
        "colab": {
          "base_uri": "https://localhost:8080/"
        },
        "outputId": "cc98523f-c62b-40df-e242-f190e00c4e16"
      },
      "execution_count": null,
      "outputs": [
        {
          "output_type": "stream",
          "name": "stdout",
          "text": [
            "Model: \"sequential\"\n",
            "_________________________________________________________________\n",
            " Layer (type)                Output Shape              Param #   \n",
            "=================================================================\n",
            " conv2d (Conv2D)             (None, 28, 28, 32)        832       \n",
            "                                                                 \n",
            " conv2d_1 (Conv2D)           (None, 28, 28, 64)        18496     \n",
            "                                                                 \n",
            " max_pooling2d (MaxPooling2D  (None, 14, 14, 64)       0         \n",
            " )                                                               \n",
            "                                                                 \n",
            " dropout (Dropout)           (None, 14, 14, 64)        0         \n",
            "                                                                 \n",
            " conv2d_2 (Conv2D)           (None, 14, 14, 128)       73856     \n",
            "                                                                 \n",
            " max_pooling2d_1 (MaxPooling  (None, 7, 7, 128)        0         \n",
            " 2D)                                                             \n",
            "                                                                 \n",
            " flatten (Flatten)           (None, 6272)              0         \n",
            "                                                                 \n",
            " dense (Dense)               (None, 256)               1605888   \n",
            "                                                                 \n",
            " dense_1 (Dense)             (None, 10)                2570      \n",
            "                                                                 \n",
            "=================================================================\n",
            "Total params: 1,701,642\n",
            "Trainable params: 1,701,642\n",
            "Non-trainable params: 0\n",
            "_________________________________________________________________\n"
          ]
        }
      ]
    },
    {
      "cell_type": "code",
      "source": [
        "early_stopping=EarlyStopping(min_delta=0.001, patience=2, restore_best_weights=True) # configuring early stopping"
      ],
      "metadata": {
        "id": "R07ARIvqiAxX"
      },
      "execution_count": null,
      "outputs": []
    },
    {
      "cell_type": "code",
      "source": [
        "batch_size=64\n",
        "epochs=20"
      ],
      "metadata": {
        "id": "3cf60lfbijGA"
      },
      "execution_count": null,
      "outputs": []
    },
    {
      "cell_type": "markdown",
      "source": [
        "We train the model for 20 epochs by diving the training dataset into 80%-20% training-validation with early stopping to prevent overfitting. We store the training history to plot validation graph."
      ],
      "metadata": {
        "id": "wqnulGlRbC9d"
      }
    },
    {
      "cell_type": "code",
      "source": [
        "history = mods.fit(x,y,batch_size=batch_size,epochs=epochs,validation_split=0.2,callbacks=[early_stopping]) # Training model"
      ],
      "metadata": {
        "id": "V4nGOBiNiulR",
        "colab": {
          "base_uri": "https://localhost:8080/"
        },
        "outputId": "d63a3a2c-5d45-450f-c684-c348d2bf0904"
      },
      "execution_count": null,
      "outputs": [
        {
          "output_type": "stream",
          "name": "stdout",
          "text": [
            "Epoch 1/20\n",
            "750/750 [==============================] - 23s 9ms/step - loss: 0.1367 - accuracy: 0.9579 - val_loss: 0.0469 - val_accuracy: 0.9843\n",
            "Epoch 2/20\n",
            "750/750 [==============================] - 6s 8ms/step - loss: 0.0446 - accuracy: 0.9860 - val_loss: 0.0358 - val_accuracy: 0.9898\n",
            "Epoch 3/20\n",
            "750/750 [==============================] - 6s 8ms/step - loss: 0.0288 - accuracy: 0.9908 - val_loss: 0.0467 - val_accuracy: 0.9847\n",
            "Epoch 4/20\n",
            "750/750 [==============================] - 6s 9ms/step - loss: 0.0227 - accuracy: 0.9928 - val_loss: 0.0355 - val_accuracy: 0.9898\n"
          ]
        }
      ]
    },
    {
      "cell_type": "markdown",
      "source": [
        "## Testing model\n",
        "We use the 10000 test images to test our model."
      ],
      "metadata": {
        "id": "V00A8RGTYtn7"
      }
    },
    {
      "cell_type": "code",
      "source": [
        "a,b=test # Unpacking data and labels"
      ],
      "metadata": {
        "id": "DI9z69pWoX8b"
      },
      "execution_count": null,
      "outputs": []
    },
    {
      "cell_type": "markdown",
      "source": [
        "The softmax returns a list of probabilites. We select the index with the highest probability and use it with the true labels to find the output of the model."
      ],
      "metadata": {
        "id": "AqG8UIJPZijR"
      }
    },
    {
      "cell_type": "code",
      "source": [
        "var=7951\n",
        "plt.imshow(a[var])\n",
        "print(\"True:\",b[var])\n",
        "temp = mods.predict(a[var].reshape(-1,28,28,1)/255) # passing processed image to the model\n",
        "print(temp[0]) # returns a list containing a list of probabilities as returned by softmax\n",
        "print(\"Predict:\", true_labels[np.argmax(temp[0])]) # Extracting the index with the highest probability and using it with true_labels"
      ],
      "metadata": {
        "id": "SpFZrMOrohGP",
        "colab": {
          "base_uri": "https://localhost:8080/",
          "height": 517
        },
        "outputId": "2c4c62e8-9ae2-409c-af1d-138f6bfdf4bb"
      },
      "execution_count": null,
      "outputs": [
        {
          "output_type": "stream",
          "name": "stdout",
          "text": [
            "True: 8\n",
            "1/1 [==============================] - 0s 178ms/step\n",
            "[1.1211965e-05 4.9057576e-07 4.1145468e-06 3.5010220e-07 3.5935252e-06\n",
            " 8.6767441e-06 7.7433590e-08 8.8286333e-06 9.9664778e-01 3.3149116e-03]\n",
            "Predict: 8\n"
          ]
        },
        {
          "output_type": "display_data",
          "data": {
            "text/plain": [
              "<Figure size 640x480 with 1 Axes>"
            ],
            "image/png": "[encoded data removed]"
          },
          "metadata": {}
        }
      ]
    },
    {
      "cell_type": "markdown",
      "source": [
        "Processing the test data."
      ],
      "metadata": {
        "id": "-D6bI6nehWY4"
      }
    },
    {
      "cell_type": "code",
      "source": [
        "a_new = np.array(a)\n",
        "a_new = a_new.reshape(-1, 28, 28, 1)\n",
        "a_new = a_new/255"
      ],
      "metadata": {
        "id": "Kbhh25q0dpTm"
      },
      "execution_count": null,
      "outputs": []
    },
    {
      "cell_type": "markdown",
      "source": [
        "Now performing prediction for all 10000 images."
      ],
      "metadata": {
        "id": "eC-oaxFshcEo"
      }
    },
    {
      "cell_type": "code",
      "source": [
        "pred = list(map(lambda x: true_labels[np.argmax(x)], mods.predict(a_new))) # mapping probabilites to labels"
      ],
      "metadata": {
        "id": "K6COnVeseE5Z",
        "colab": {
          "base_uri": "https://localhost:8080/"
        },
        "outputId": "6bd89687-7f3b-4870-c286-fb9770c888d6"
      },
      "execution_count": null,
      "outputs": [
        {
          "output_type": "stream",
          "name": "stdout",
          "text": [
            "313/313 [==============================] - 1s 2ms/step\n"
          ]
        }
      ]
    },
    {
      "cell_type": "code",
      "source": [
        "pred[var]"
      ],
      "metadata": {
        "id": "YSJqZHyaeScb",
        "colab": {
          "base_uri": "https://localhost:8080/"
        },
        "outputId": "b180275d-cda2-4024-dcb4-bad49e791308"
      },
      "execution_count": null,
      "outputs": [
        {
          "output_type": "execute_result",
          "data": {
            "text/plain": [
              "8"
            ]
          },
          "metadata": {},
          "execution_count": 24
        }
      ]
    },
    {
      "cell_type": "markdown",
      "source": [
        "## Training visualisation"
      ],
      "metadata": {
        "id": "e-4baBYIhpZX"
      }
    },
    {
      "cell_type": "markdown",
      "source": [
        ":Converting the history of model training into a pandas dataframe."
      ],
      "metadata": {
        "id": "hsekBZhRhzXP"
      }
    },
    {
      "cell_type": "code",
      "source": [
        "import pandas as pd\n",
        "history_df = pd.DataFrame(history.history)\n",
        "history_df.columns"
      ],
      "metadata": {
        "id": "ipV2sJs2gR9z",
        "colab": {
          "base_uri": "https://localhost:8080/"
        },
        "outputId": "82734a44-d50c-41bc-9c17-891011097a2c"
      },
      "execution_count": null,
      "outputs": [
        {
          "output_type": "execute_result",
          "data": {
            "text/plain": [
              "Index(['loss', 'accuracy', 'val_loss', 'val_accuracy'], dtype='object')"
            ]
          },
          "metadata": {},
          "execution_count": 25
        }
      ]
    },
    {
      "cell_type": "markdown",
      "source": [
        "Loss VS. Val_loss with minimum validation loss.\n"
      ],
      "metadata": {
        "id": "Fe7WiMwuh8En"
      }
    },
    {
      "cell_type": "code",
      "source": [
        "history_df.loc[:, ['loss', 'val_loss']].plot()\n",
        "print(\"Minimum validation loss: {}\".format(history_df['val_loss'].min()))"
      ],
      "metadata": {
        "id": "1-QxtFgygwEe",
        "colab": {
          "base_uri": "https://localhost:8080/",
          "height": 447
        },
        "outputId": "8176ca42-51d2-4dbf-bce8-8c4c93329f37"
      },
      "execution_count": null,
      "outputs": [
        {
          "output_type": "stream",
          "name": "stdout",
          "text": [
            "Minimum validation loss: 0.03553895652294159\n"
          ]
        },
        {
          "output_type": "display_data",
          "data": {
            "text/plain": [
              "<Figure size 640x480 with 1 Axes>"
            ],
            "image/png": "[encoded data removed]"
          },
          "metadata": {}
        }
      ]
    },
    {
      "cell_type": "markdown",
      "source": [
        "Accuracy VS. Val_accuracy with maximum validation accuracy."
      ],
      "metadata": {
        "id": "ZqbfkGJsiIZV"
      }
    },
    {
      "cell_type": "code",
      "source": [
        "history_df.loc[:, ['accuracy', 'val_accuracy']].plot()\n",
        "print(\"Maximum validation accuracy: {}\".format(history_df['val_accuracy'].max()))"
      ],
      "metadata": {
        "id": "gtvA-aEJg0Mw",
        "colab": {
          "base_uri": "https://localhost:8080/",
          "height": 447
        },
        "outputId": "4a2747e1-2d76-4dd5-b710-ce94f9076879"
      },
      "execution_count": null,
      "outputs": [
        {
          "output_type": "stream",
          "name": "stdout",
          "text": [
            "Maximum validation accuracy: 0.9898333549499512\n"
          ]
        },
        {
          "output_type": "display_data",
          "data": {
            "text/plain": [
              "<Figure size 640x480 with 1 Axes>"
            ],
            "image/png": "[encoded data removed]"
          },
          "metadata": {}
        }
      ]
    },
    {
      "cell_type": "markdown",
      "source": [
        "Accuracy score."
      ],
      "metadata": {
        "id": "Diycigoulhyz"
      }
    },
    {
      "cell_type": "code",
      "source": [
        "from sklearn.metrics import accuracy_score\n",
        "accuracy_score(b, pred)"
      ],
      "metadata": {
        "id": "c7kcpuwDlM_k",
        "colab": {
          "base_uri": "https://localhost:8080/"
        },
        "outputId": "3e3e3da2-11c8-4d44-ab2c-c29b89b1c8fa"
      },
      "execution_count": null,
      "outputs": [
        {
          "output_type": "execute_result",
          "data": {
            "text/plain": [
              "0.9919"
            ]
          },
          "metadata": {},
          "execution_count": 28
        }
      ]
    },
    {
      "cell_type": "markdown",
      "source": [
        "Confusion matrix."
      ],
      "metadata": {
        "id": "-3VKF03PhvuS"
      }
    },
    {
      "cell_type": "code",
      "source": [
        "from sklearn.metrics import confusion_matrix\n",
        "import seaborn as sns\n",
        "sns.heatmap(confusion_matrix(b, pred), annot=True, fmt='d')"
      ],
      "metadata": {
        "id": "fgY0C4uFDtdA",
        "colab": {
          "base_uri": "https://localhost:8080/",
          "height": 447
        },
        "outputId": "746ea76e-a62c-46ee-95c5-986d414335e0"
      },
      "execution_count": null,
      "outputs": [
        {
          "output_type": "execute_result",
          "data": {
            "text/plain": [
              "<Axes: >"
            ]
          },
          "metadata": {},
          "execution_count": 29
        },
        {
          "output_type": "display_data",
          "data": {
            "text/plain": [
              "<Figure size 640x480 with 2 Axes>"
            ],
            "image/png": "[encoded data removed]"
          },
          "metadata": {}
        }
      ]
    }
  ]
}